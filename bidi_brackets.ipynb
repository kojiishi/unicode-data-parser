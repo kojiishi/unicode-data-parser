{
 "metadata": {
  "language_info": {
   "codemirror_mode": {
    "name": "ipython",
    "version": 3
   },
   "file_extension": ".py",
   "mimetype": "text/x-python",
   "name": "python",
   "nbconvert_exporter": "python",
   "pygments_lexer": "ipython3",
   "version": "3.8.5-final"
  },
  "orig_nbformat": 2,
  "kernelspec": {
   "name": "python3",
   "display_name": "Python 3",
   "language": "python"
  }
 },
 "nbformat": 4,
 "nbformat_minor": 2,
 "cells": [
  {
   "cell_type": "code",
   "execution_count": 1,
   "metadata": {},
   "outputs": [
    {
     "output_type": "stream",
     "name": "stdout",
     "text": [
      "# Basic Latin\n0028 o Na Common [] # LEFT PARENTHESIS\n0029 c Na Common [] # RIGHT PARENTHESIS\n005B o Na Common [] # LEFT SQUARE BRACKET\n005D c Na Common [] # RIGHT SQUARE BRACKET\n007B o Na Common [] # LEFT CURLY BRACKET\n007D c Na Common [] # RIGHT CURLY BRACKET\n# Tibetan\n0F3A o N Tibetan [] # TIBETAN MARK GUG RTAGS GYON\n0F3B c N Tibetan [] # TIBETAN MARK GUG RTAGS GYAS\n0F3C o N Tibetan [] # TIBETAN MARK ANG KHANG GYON\n0F3D c N Tibetan [] # TIBETAN MARK ANG KHANG GYAS\n# Ogham\n169B o N Ogham [] # OGHAM FEATHER MARK\n169C c N Ogham [] # OGHAM REVERSED FEATHER MARK\n# General Punctuation\n2045 o N Common [] # LEFT SQUARE BRACKET WITH QUILL\n2046 c N Common [] # RIGHT SQUARE BRACKET WITH QUILL\n# Superscripts and Subscripts\n207D o N Common [] # SUPERSCRIPT LEFT PARENTHESIS\n207E c N Common [] # SUPERSCRIPT RIGHT PARENTHESIS\n208D o N Common [] # SUBSCRIPT LEFT PARENTHESIS\n208E c N Common [] # SUBSCRIPT RIGHT PARENTHESIS\n# Miscellaneous Technical\n2308 o N Common [] # LEFT CEILING\n2309 c N Common [] # RIGHT CEILING\n230A o N Common [] # LEFT FLOOR\n230B c N Common [] # RIGHT FLOOR\n2329 o W Common [] # LEFT-POINTING ANGLE BRACKET\n232A c W Common [] # RIGHT-POINTING ANGLE BRACKET\n# Dingbats\n2768 o N Common [] # MEDIUM LEFT PARENTHESIS ORNAMENT\n2769 c N Common [] # MEDIUM RIGHT PARENTHESIS ORNAMENT\n276A o N Common [] # MEDIUM FLATTENED LEFT PARENTHESIS ORNAMENT\n276B c N Common [] # MEDIUM FLATTENED RIGHT PARENTHESIS ORNAMENT\n276C o N Common [] # MEDIUM LEFT-POINTING ANGLE BRACKET ORNAMENT\n276D c N Common [] # MEDIUM RIGHT-POINTING ANGLE BRACKET ORNAMENT\n276E o N Common [] # HEAVY LEFT-POINTING ANGLE QUOTATION MARK ORNAMENT\n276F c N Common [] # HEAVY RIGHT-POINTING ANGLE QUOTATION MARK ORNAMENT\n2770 o N Common [] # HEAVY LEFT-POINTING ANGLE BRACKET ORNAMENT\n2771 c N Common [] # HEAVY RIGHT-POINTING ANGLE BRACKET ORNAMENT\n2772 o N Common [] # LIGHT LEFT TORTOISE SHELL BRACKET ORNAMENT\n2773 c N Common [] # LIGHT RIGHT TORTOISE SHELL BRACKET ORNAMENT\n2774 o N Common [] # MEDIUM LEFT CURLY BRACKET ORNAMENT\n2775 c N Common [] # MEDIUM RIGHT CURLY BRACKET ORNAMENT\n# Miscellaneous Mathematical Symbols-A\n27C5 o N Common [] # LEFT S-SHAPED BAG DELIMITER\n27C6 c N Common [] # RIGHT S-SHAPED BAG DELIMITER\n27E6 o Na Common [] # MATHEMATICAL LEFT WHITE SQUARE BRACKET\n27E7 c Na Common [] # MATHEMATICAL RIGHT WHITE SQUARE BRACKET\n27E8 o Na Common [] # MATHEMATICAL LEFT ANGLE BRACKET\n27E9 c Na Common [] # MATHEMATICAL RIGHT ANGLE BRACKET\n27EA o Na Common [] # MATHEMATICAL LEFT DOUBLE ANGLE BRACKET\n27EB c Na Common [] # MATHEMATICAL RIGHT DOUBLE ANGLE BRACKET\n27EC o Na Common [] # MATHEMATICAL LEFT WHITE TORTOISE SHELL BRACKET\n27ED c Na Common [] # MATHEMATICAL RIGHT WHITE TORTOISE SHELL BRACKET\n27EE o N Common [] # MATHEMATICAL LEFT FLATTENED PARENTHESIS\n27EF c N Common [] # MATHEMATICAL RIGHT FLATTENED PARENTHESIS\n# Miscellaneous Mathematical Symbols-B\n2983 o N Common [] # LEFT WHITE CURLY BRACKET\n2984 c N Common [] # RIGHT WHITE CURLY BRACKET\n2985 o Na Common [] # LEFT WHITE PARENTHESIS\n2986 c Na Common [] # RIGHT WHITE PARENTHESIS\n2987 o N Common [] # Z NOTATION LEFT IMAGE BRACKET\n2988 c N Common [] # Z NOTATION RIGHT IMAGE BRACKET\n2989 o N Common [] # Z NOTATION LEFT BINDING BRACKET\n298A c N Common [] # Z NOTATION RIGHT BINDING BRACKET\n298B o N Common [] # LEFT SQUARE BRACKET WITH UNDERBAR\n298C c N Common [] # RIGHT SQUARE BRACKET WITH UNDERBAR\n298D o N Common [] # LEFT SQUARE BRACKET WITH TICK IN TOP CORNER\n298E c N Common [] # RIGHT SQUARE BRACKET WITH TICK IN BOTTOM CORNER\n298F o N Common [] # LEFT SQUARE BRACKET WITH TICK IN BOTTOM CORNER\n2990 c N Common [] # RIGHT SQUARE BRACKET WITH TICK IN TOP CORNER\n2991 o N Common [] # LEFT ANGLE BRACKET WITH DOT\n2992 c N Common [] # RIGHT ANGLE BRACKET WITH DOT\n2993 o N Common [] # LEFT ARC LESS-THAN BRACKET\n2994 c N Common [] # RIGHT ARC GREATER-THAN BRACKET\n2995 o N Common [] # DOUBLE LEFT ARC GREATER-THAN BRACKET\n2996 c N Common [] # DOUBLE RIGHT ARC LESS-THAN BRACKET\n2997 o N Common [] # LEFT BLACK TORTOISE SHELL BRACKET\n2998 c N Common [] # RIGHT BLACK TORTOISE SHELL BRACKET\n29D8 o N Common [] # LEFT WIGGLY FENCE\n29D9 c N Common [] # RIGHT WIGGLY FENCE\n29DA o N Common [] # LEFT DOUBLE WIGGLY FENCE\n29DB c N Common [] # RIGHT DOUBLE WIGGLY FENCE\n29FC o N Common [] # LEFT-POINTING CURVED ANGLE BRACKET\n29FD c N Common [] # RIGHT-POINTING CURVED ANGLE BRACKET\n# Supplemental Punctuation\n2E22 o N Common [] # TOP LEFT HALF BRACKET\n2E23 c N Common [] # TOP RIGHT HALF BRACKET\n2E24 o N Common [] # BOTTOM LEFT HALF BRACKET\n2E25 c N Common [] # BOTTOM RIGHT HALF BRACKET\n2E26 o N Common [] # LEFT SIDEWAYS U BRACKET\n2E27 c N Common [] # RIGHT SIDEWAYS U BRACKET\n2E28 o N Common [] # LEFT DOUBLE PARENTHESIS\n2E29 c N Common [] # RIGHT DOUBLE PARENTHESIS\n# CJK Symbols and Punctuation\n3008 o W Common ['Bopo', 'Hang', 'Hani', 'Hira', 'Kana', 'Yiii'] # LEFT ANGLE BRACKET\n3009 c W Common ['Bopo', 'Hang', 'Hani', 'Hira', 'Kana', 'Yiii'] # RIGHT ANGLE BRACKET\n300A o W Common ['Bopo', 'Hang', 'Hani', 'Hira', 'Kana', 'Yiii'] # LEFT DOUBLE ANGLE BRACKET\n300B c W Common ['Bopo', 'Hang', 'Hani', 'Hira', 'Kana', 'Yiii'] # RIGHT DOUBLE ANGLE BRACKET\n300C o W Common ['Bopo', 'Hang', 'Hani', 'Hira', 'Kana', 'Yiii'] # LEFT CORNER BRACKET\n300D c W Common ['Bopo', 'Hang', 'Hani', 'Hira', 'Kana', 'Yiii'] # RIGHT CORNER BRACKET\n300E o W Common ['Bopo', 'Hang', 'Hani', 'Hira', 'Kana', 'Yiii'] # LEFT WHITE CORNER BRACKET\n300F c W Common ['Bopo', 'Hang', 'Hani', 'Hira', 'Kana', 'Yiii'] # RIGHT WHITE CORNER BRACKET\n3010 o W Common ['Bopo', 'Hang', 'Hani', 'Hira', 'Kana', 'Yiii'] # LEFT BLACK LENTICULAR BRACKET\n3011 c W Common ['Bopo', 'Hang', 'Hani', 'Hira', 'Kana', 'Yiii'] # RIGHT BLACK LENTICULAR BRACKET\n3014 o W Common ['Bopo', 'Hang', 'Hani', 'Hira', 'Kana', 'Yiii'] # LEFT TORTOISE SHELL BRACKET\n3015 c W Common ['Bopo', 'Hang', 'Hani', 'Hira', 'Kana', 'Yiii'] # RIGHT TORTOISE SHELL BRACKET\n3016 o W Common ['Bopo', 'Hang', 'Hani', 'Hira', 'Kana', 'Yiii'] # LEFT WHITE LENTICULAR BRACKET\n3017 c W Common ['Bopo', 'Hang', 'Hani', 'Hira', 'Kana', 'Yiii'] # RIGHT WHITE LENTICULAR BRACKET\n3018 o W Common ['Bopo', 'Hang', 'Hani', 'Hira', 'Kana', 'Yiii'] # LEFT WHITE TORTOISE SHELL BRACKET\n3019 c W Common ['Bopo', 'Hang', 'Hani', 'Hira', 'Kana', 'Yiii'] # RIGHT WHITE TORTOISE SHELL BRACKET\n301A o W Common ['Bopo', 'Hang', 'Hani', 'Hira', 'Kana', 'Yiii'] # LEFT WHITE SQUARE BRACKET\n301B c W Common ['Bopo', 'Hang', 'Hani', 'Hira', 'Kana', 'Yiii'] # RIGHT WHITE SQUARE BRACKET\n# Small Form Variants\nFE59 o W Common [] # SMALL LEFT PARENTHESIS\nFE5A c W Common [] # SMALL RIGHT PARENTHESIS\nFE5B o W Common [] # SMALL LEFT CURLY BRACKET\nFE5C c W Common [] # SMALL RIGHT CURLY BRACKET\nFE5D o W Common [] # SMALL LEFT TORTOISE SHELL BRACKET\nFE5E c W Common [] # SMALL RIGHT TORTOISE SHELL BRACKET\n# Halfwidth and Fullwidth Forms\nFF08 o F Common [] # FULLWIDTH LEFT PARENTHESIS\nFF09 c F Common [] # FULLWIDTH RIGHT PARENTHESIS\nFF3B o F Common [] # FULLWIDTH LEFT SQUARE BRACKET\nFF3D c F Common [] # FULLWIDTH RIGHT SQUARE BRACKET\nFF5B o F Common [] # FULLWIDTH LEFT CURLY BRACKET\nFF5D c F Common [] # FULLWIDTH RIGHT CURLY BRACKET\nFF5F o F Common [] # FULLWIDTH LEFT WHITE PARENTHESIS\nFF60 c F Common [] # FULLWIDTH RIGHT WHITE PARENTHESIS\nFF62 o H Common ['Bopo', 'Hang', 'Hani', 'Hira', 'Kana', 'Yiii'] # HALFWIDTH LEFT CORNER BRACKET\nFF63 c H Common ['Bopo', 'Hang', 'Hani', 'Hira', 'Kana', 'Yiii'] # HALFWIDTH RIGHT CORNER BRACKET\n"
     ]
    }
   ],
   "source": [
    "import unicodedata\n",
    "from UnicodeDataParser import UnicodeDataParser\n",
    "\n",
    "parser = UnicodeDataParser()\n",
    "blocks = parser.parse_blocks()\n",
    "bidi_brackets = parser.parse_bidi_brackets()\n",
    "scripts = parser.parse_scripts()\n",
    "script_extensions = parser.parse_script_extensions()\n",
    "last_block = None\n",
    "for code in bidi_brackets.keys():\n",
    "    block = blocks[code]\n",
    "    if block != last_block:\n",
    "        print(f'# {block}')\n",
    "        last_block = block\n",
    "    row = [\n",
    "        UnicodeDataParser.hex(code),\n",
    "        bidi_brackets[code][\"type\"],\n",
    "        unicodedata.east_asian_width(chr(code)),\n",
    "        scripts.get(code),\n",
    "        str(script_extensions.get(code, [])),\n",
    "    ]\n",
    "    print(f'{\" \".join(row)} # {unicodedata.name(chr(code))}')\n"
   ]
  }
 ]
}